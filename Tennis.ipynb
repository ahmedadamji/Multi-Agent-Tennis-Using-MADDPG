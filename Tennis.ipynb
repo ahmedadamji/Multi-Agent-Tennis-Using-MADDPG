{
 "cells": [
  {
   "cell_type": "markdown",
   "metadata": {},
   "source": [
    "# Collaboration and Competition\n",
    "\n",
    "---\n",
    "\n",
    "You are welcome to use this coding environment to train your agent for the project.  Follow the instructions below to get started!\n",
    "\n",
    "### 1. Start the Environment\n",
    "\n",
    "Run the next code cell to install a few packages.  This line will take a few minutes to run!"
   ]
  },
  {
   "cell_type": "code",
   "execution_count": 1,
   "metadata": {},
   "outputs": [
    {
     "name": "stdout",
     "output_type": "stream",
     "text": [
      "\u001b[31mtensorflow 1.7.1 has requirement numpy>=1.13.3, but you'll have numpy 1.12.1 which is incompatible.\u001b[0m\r\n",
      "\u001b[31mipython 6.5.0 has requirement prompt-toolkit<2.0.0,>=1.0.15, but you'll have prompt-toolkit 3.0.36 which is incompatible.\u001b[0m\r\n",
      "\u001b[31mjupyter-console 6.4.3 has requirement jupyter-client>=7.0.0, but you'll have jupyter-client 5.2.4 which is incompatible.\u001b[0m\r\n"
     ]
    }
   ],
   "source": [
    "!pip -q install ./python"
   ]
  },
  {
   "cell_type": "markdown",
   "metadata": {},
   "source": [
    "The environment is already saved in the Workspace and can be accessed at the file path provided below. "
   ]
  },
  {
   "cell_type": "code",
   "execution_count": 2,
   "metadata": {},
   "outputs": [
    {
     "name": "stderr",
     "output_type": "stream",
     "text": [
      "INFO:unityagents:\n",
      "'Academy' started successfully!\n",
      "Unity Academy name: Academy\n",
      "        Number of Brains: 1\n",
      "        Number of External Brains : 1\n",
      "        Lesson number : 0\n",
      "        Reset Parameters :\n",
      "\t\t\n",
      "Unity brain name: TennisBrain\n",
      "        Number of Visual Observations (per agent): 0\n",
      "        Vector Observation space type: continuous\n",
      "        Vector Observation space size (per agent): 8\n",
      "        Number of stacked Vector Observation: 3\n",
      "        Vector Action space type: continuous\n",
      "        Vector Action space size (per agent): 2\n",
      "        Vector Action descriptions: , \n"
     ]
    }
   ],
   "source": [
    "from unityagents import UnityEnvironment\n",
    "import numpy as np\n",
    "\n",
    "env = UnityEnvironment(file_name=\"/data/Tennis_Linux_NoVis/Tennis\")"
   ]
  },
  {
   "cell_type": "markdown",
   "metadata": {},
   "source": [
    "Environments contain **_brains_** which are responsible for deciding the actions of their associated agents. Here we check for the first brain available, and set it as the default brain we will be controlling from Python."
   ]
  },
  {
   "cell_type": "code",
   "execution_count": 3,
   "metadata": {},
   "outputs": [],
   "source": [
    "# get the default brain\n",
    "brain_name = env.brain_names[0]\n",
    "brain = env.brains[brain_name]"
   ]
  },
  {
   "cell_type": "markdown",
   "metadata": {},
   "source": [
    "### 2. Examine the State and Action Spaces\n",
    "\n",
    "Run the code cell below to print some information about the environment."
   ]
  },
  {
   "cell_type": "code",
   "execution_count": 4,
   "metadata": {},
   "outputs": [
    {
     "name": "stdout",
     "output_type": "stream",
     "text": [
      "Number of agents: 2\n",
      "Size of each action: 2\n",
      "There are 2 agents. Each observes a state with length: 24\n",
      "The state for the first agent looks like: [ 0.          0.          0.          0.          0.          0.          0.\n",
      "  0.          0.          0.          0.          0.          0.          0.\n",
      "  0.          0.         -6.65278625 -1.5        -0.          0.\n",
      "  6.83172083  6.         -0.          0.        ]\n"
     ]
    }
   ],
   "source": [
    "# reset the environment\n",
    "env_info = env.reset(train_mode=True)[brain_name]\n",
    "\n",
    "# number of agents \n",
    "num_agents = len(env_info.agents)\n",
    "print('Number of agents:', num_agents)\n",
    "\n",
    "# size of each action\n",
    "action_size = brain.vector_action_space_size\n",
    "print('Size of each action:', action_size)\n",
    "\n",
    "# examine the state space \n",
    "states = env_info.vector_observations\n",
    "state_size = states.shape[1]\n",
    "print('There are {} agents. Each observes a state with length: {}'.format(states.shape[0], state_size))\n",
    "print('The state for the first agent looks like:', states[0])"
   ]
  },
  {
   "cell_type": "markdown",
   "metadata": {},
   "source": [
    "### 3. Take Random Actions in the Environment\n",
    "\n",
    "In the next code cell, you will learn how to use the Python API to control the agent and receive feedback from the environment.\n",
    "\n",
    "Note that **in this coding environment, you will not be able to watch the agents while they are training**, and you should set `train_mode=True` to restart the environment."
   ]
  },
  {
   "cell_type": "code",
   "execution_count": 5,
   "metadata": {},
   "outputs": [
    {
     "name": "stdout",
     "output_type": "stream",
     "text": [
      "Total score (averaged over agents) this episode: -0.004999999888241291\n",
      "Total score (averaged over agents) this episode: -0.004999999888241291\n",
      "Total score (averaged over agents) this episode: 0.09500000160187483\n",
      "Total score (averaged over agents) this episode: -0.004999999888241291\n",
      "Total score (averaged over agents) this episode: -0.004999999888241291\n"
     ]
    }
   ],
   "source": [
    "for i in range(5):                                         # play game for 5 episodes\n",
    "    env_info = env.reset(train_mode=False)[brain_name]     # reset the environment    \n",
    "    states = env_info.vector_observations                  # get the current state (for each agent)\n",
    "    scores = np.zeros(num_agents)                          # initialize the score (for each agent)\n",
    "    while True:\n",
    "        actions = np.random.randn(num_agents, action_size) # select an action (for each agent)\n",
    "        actions = np.clip(actions, -1, 1)                  # all actions between -1 and 1\n",
    "        env_info = env.step(actions)[brain_name]           # send all actions to tne environment\n",
    "        next_states = env_info.vector_observations         # get next state (for each agent)\n",
    "        rewards = env_info.rewards                         # get reward (for each agent)\n",
    "        dones = env_info.local_done                        # see if episode finished\n",
    "        scores += env_info.rewards                         # update the score (for each agent)\n",
    "        states = next_states                               # roll over states to next time step\n",
    "        if np.any(dones):                                  # exit loop if episode finished\n",
    "            break\n",
    "    print('Total score (averaged over agents) this episode: {}'.format(np.mean(scores)))"
   ]
  },
  {
   "cell_type": "markdown",
   "metadata": {},
   "source": [
    "When finished, you can close the environment."
   ]
  },
  {
   "cell_type": "code",
   "execution_count": 6,
   "metadata": {},
   "outputs": [],
   "source": [
    "# env.close()"
   ]
  },
  {
   "cell_type": "markdown",
   "metadata": {},
   "source": [
    "### 4. It's Your Turn!\n",
    "\n",
    "Now it's your turn to train your own agent to solve the environment!  A few **important notes**:\n",
    "- When training the environment, set `train_mode=True`, so that the line for resetting the environment looks like the following:\n",
    "```python\n",
    "env_info = env.reset(train_mode=True)[brain_name]\n",
    "```\n",
    "- To structure your work, you're welcome to work directly in this Jupyter notebook, or you might like to start over with a new file!  You can see the list of files in the workspace by clicking on **_Jupyter_** in the top left corner of the notebook.\n",
    "- In this coding environment, you will not be able to watch the agents while they are training.  However, **_after training the agents_**, you can download the saved model weights to watch the agents on your own machine! "
   ]
  },
  {
   "cell_type": "code",
   "execution_count": 7,
   "metadata": {},
   "outputs": [],
   "source": [
    "env_info = env.reset(train_mode=True)[brain_name]"
   ]
  },
  {
   "cell_type": "markdown",
   "metadata": {},
   "source": [
    "### 5. Importing the Necessary Packages"
   ]
  },
  {
   "cell_type": "code",
   "execution_count": 8,
   "metadata": {},
   "outputs": [],
   "source": [
    "import gym\n",
    "import random\n",
    "import torch\n",
    "import numpy as np\n",
    "from collections import deque\n",
    "import matplotlib.pyplot as plt\n",
    "%matplotlib inline"
   ]
  },
  {
   "cell_type": "markdown",
   "metadata": {},
   "source": [
    "### 6. Instantiating the Multi-Agents"
   ]
  },
  {
   "cell_type": "code",
   "execution_count": 9,
   "metadata": {},
   "outputs": [
    {
     "name": "stdout",
     "output_type": "stream",
     "text": [
      "CUDA is available!\n"
     ]
    }
   ],
   "source": [
    "from maddpg_agent import Agent\n",
    "# Check if the following comment is correct and veryfy approach\n",
    "# State size for each agent consists of each others state space as they are working collaboratively\n",
    "agents = []\n",
    "for i in range(num_agents):\n",
    "    agents.append(Agent(state_size = state_size, action_size = action_size, random_seed = 0, num_agents = 1))"
   ]
  },
  {
   "cell_type": "markdown",
   "metadata": {},
   "source": [
    "### 7. Training the Multi-Agents with MADDPG"
   ]
  },
  {
   "cell_type": "code",
   "execution_count": 10,
   "metadata": {},
   "outputs": [
    {
     "name": "stdout",
     "output_type": "stream",
     "text": [
      "Episode 100\tMin: 0.00\tMax: 0.10\tAverage Score: 0.01\n",
      "Episode 200\tMin: 0.00\tMax: 0.10\tAverage Score: 0.01\n",
      "Episode 300\tMin: 0.00\tMax: 0.19\tAverage Score: 0.02\n",
      "Episode 400\tMin: 0.00\tMax: 0.29\tAverage Score: 0.09\n",
      "Episode 500\tMin: 0.00\tMax: 0.30\tAverage Score: 0.06\n",
      "Episode 600\tMin: 0.00\tMax: 0.19\tAverage Score: 0.06\n",
      "Episode 700\tMin: 0.00\tMax: 0.20\tAverage Score: 0.08\n",
      "Episode 800\tMin: 0.00\tMax: 0.30\tAverage Score: 0.11\n",
      "Episode 900\tMin: 0.00\tMax: 1.10\tAverage Score: 0.16\n",
      "Episode 1000\tMin: 0.00\tMax: 0.50\tAverage Score: 0.16\n",
      "Episode 1100\tMin: 0.00\tMax: 0.50\tAverage Score: 0.13\n",
      "Episode 1200\tMin: 0.00\tMax: 1.60\tAverage Score: 0.23\n",
      "Episode 1300\tMin: 0.00\tMax: 0.90\tAverage Score: 0.18\n",
      "Episode 1400\tMin: 0.00\tMax: 0.60\tAverage Score: 0.18\n",
      "Episode 1500\tMin: 0.00\tMax: 2.60\tAverage Score: 0.20\n",
      "Episode 1600\tMin: 0.00\tMax: 0.40\tAverage Score: 0.08\n",
      "Episode 1700\tMin: 0.00\tMax: 2.10\tAverage Score: 0.30\n",
      "Episode 1800\tMin: 0.00\tMax: 1.29\tAverage Score: 0.23\n",
      "Episode 1900\tMin: 0.09\tMax: 2.60\tAverage Score: 0.35\n",
      "Episode 2000\tMin: 0.00\tMax: 1.20\tAverage Score: 0.25\n",
      "Episode 2068\tMin: 0.00\tMax: 2.70\tAverage Score: 0.50\n",
      "Environment solved in 1968 episodes!\tMin: 0.00\tMax: 2.70\tAverage Score: 0.50\n"
     ]
    }
   ],
   "source": [
    "def maddpg(n_episodes=20000, max_t=1000, print_every=100):\n",
    "    # Initialize the array of scores\n",
    "    scores_deque = deque(maxlen=print_every)\n",
    "    scores = []\n",
    "    for i_episode in range(1, n_episodes+1):\n",
    "        env_info = env.reset(train_mode=True)[brain_name]     # reset the environment    \n",
    "        states = env_info.vector_observations                  # get the current state (for each agent)\n",
    "\n",
    "        agents[0].reset()\n",
    "        agents[1].reset()\n",
    "        score = np.zeros(num_agents)                          # initialize the score (for each agent)\n",
    "\n",
    "        for t in range(max_t):\n",
    "\n",
    "            # Computing actions for all agents\n",
    "            actions_0 = agents[0].act(states[0])\n",
    "            actions_1 = agents[1].act(states[1])\n",
    "\n",
    "            # Concatenating actions for both agents\n",
    "            actions = np.concatenate((actions_0, actions_1), axis=0).flatten()\n",
    "\n",
    "            env_info = env.step(actions)[brain_name]                # send all actions to tne environment\n",
    "            next_states = env_info.vector_observations              # get next state (for each agent)\n",
    "            rewards = env_info.rewards                              # get reward (for each agent)\n",
    "            dones = env_info.local_done                             # see if episode finished\n",
    "            \n",
    "            # Updating the agents\n",
    "            agents[0].step(np.reshape(states, [1, -1]), actions, rewards[0], np.reshape(next_states, [1, -1]), dones, 0)\n",
    "            agents[1].step(np.reshape(states, [1, -1]), actions, rewards[1], np.reshape(next_states, [1, -1]), dones, 1)\n",
    "            \n",
    "            states = next_states                                    # roll over states to next time step\n",
    "            \n",
    "            # Updating the score to the episode score\n",
    "            score += rewards\n",
    "\n",
    "            if np.any(dones):                                  # exit loop if episode finished\n",
    "                break\n",
    "        \n",
    "        # Updating the scores\n",
    "        scores_deque.append(np.max(score))\n",
    "        scores.append(np.max(score))\n",
    "        print('\\rEpisode {}\\tMin: {:.2f}\\tMax: {:.2f}\\tAverage Score: {:.2f}'.format(i_episode, np.min(scores_deque), np.max(scores_deque), np.mean(scores_deque)), end=\"\")\n",
    "        \n",
    "        # Saving the model weights as checkpoints\n",
    "        torch.save(agents[0].actor_local.state_dict(), 'checkpoint_agent1_actor.pth')\n",
    "        torch.save(agents[0].critic_local.state_dict(), 'checkpoint_agent1_critic.pth')\n",
    "        torch.save(agents[1].actor_local.state_dict(), 'checkpoint_agent2_actor.pth')\n",
    "        torch.save(agents[1].critic_local.state_dict(), 'checkpoint_agent2_critic.pth')\n",
    "        if i_episode % print_every == 0:\n",
    "            print('\\rEpisode {}\\tMin: {:.2f}\\tMax: {:.2f}\\tAverage Score: {:.2f}'.format(i_episode, np.min(scores_deque), np.max(scores_deque), np.mean(scores_deque)))\n",
    "        \n",
    "        # Checking if the environment is solved\n",
    "        if ((i_episode > 100) and (np.mean(scores_deque)>=0.5)):\n",
    "            print('\\nEnvironment solved in {:d} episodes!\\tMin: {:.2f}\\tMax: {:.2f}\\tAverage Score: {:.2f}'.format(i_episode-100, np.min(scores_deque), np.max(scores_deque), np.mean(scores_deque)))\n",
    "            torch.save(agents[0].actor_local.state_dict(), 'checkpoint_agent1_actor.pth')\n",
    "            torch.save(agents[0].critic_local.state_dict(), 'checkpoint_agent1_critic.pth')\n",
    "            torch.save(agents[1].actor_local.state_dict(), 'checkpoint_agent2_actor.pth')\n",
    "            torch.save(agents[1].critic_local.state_dict(), 'checkpoint_agent2_critic.pth')\n",
    "            break       \n",
    "\n",
    "    return scores\n",
    "\n",
    "scores = maddpg()"
   ]
  },
  {
   "cell_type": "markdown",
   "metadata": {},
   "source": [
    "### 8. Plotting the scores"
   ]
  },
  {
   "cell_type": "code",
   "execution_count": 11,
   "metadata": {},
   "outputs": [
    {
     "data": {
      "image/png": "[encoded data removed]",
      "text/plain": [
       "<matplotlib.figure.Figure at 0x7f6663700160>"
      ]
     },
     "metadata": {
      "needs_background": "light"
     },
     "output_type": "display_data"
    }
   ],
   "source": [
    "fig = plt.figure()\n",
    "ax = fig.add_subplot(111)\n",
    "plt.plot(np.arange(1, len(scores)+1), scores)\n",
    "plt.ylabel('Score')\n",
    "plt.xlabel('Episode #')\n",
    "plt.show()"
   ]
  },
  {
   "cell_type": "markdown",
   "metadata": {},
   "source": [
    "##### When finished, you can close the environment."
   ]
  },
  {
   "cell_type": "code",
   "execution_count": null,
   "metadata": {},
   "outputs": [],
   "source": [
    "env.close()"
   ]
  }
 ],
 "metadata": {
  "kernelspec": {
   "display_name": "Python 3",
   "language": "python",
   "name": "python3"
  },
  "language_info": {
   "codemirror_mode": {
    "name": "ipython",
    "version": 3
   },
   "file_extension": ".py",
   "mimetype": "text/x-python",
   "name": "python",
   "nbconvert_exporter": "python",
   "pygments_lexer": "ipython3",
   "version": "3.8.10"
  },
  "vscode": {
   "interpreter": {
    "hash": "916dbcbb3f70747c44a77c7bcd40155683ae19c65e1c03b4aa3499c5328201f1"
   }
  }
 },
 "nbformat": 4,
 "nbformat_minor": 2
}
